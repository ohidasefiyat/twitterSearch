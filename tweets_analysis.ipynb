{
 "cells": [
  {
   "cell_type": "code",
   "execution_count": 69,
   "metadata": {},
   "outputs": [],
   "source": [
    "import tweepy as tw\n",
    "import pandas as pd\n",
    "\n"
   ]
  },
  {
   "cell_type": "code",
   "execution_count": 70,
   "metadata": {},
   "outputs": [],
   "source": [
    "consumer_key = 'UwRGulfZnI9zhpU3soAmyFcdT'\n",
    "consumer_secret = 'S05UWAKh8ZrRkfMXaOKqeBd1qwedqNOi79Os3X8OG1EDFLx3WP'\n",
    "access_token = '4459427656-1KchysjOkkxeVmckND5R4yaHCqUmMc2BBWCke5n'\n",
    "access_token_secret = 'z52EqVOwzGVFuQq1IkO4Sj5wdCoxwhgCOdKaTgq355wed'\n",
    "\n"
   ]
  },
  {
   "cell_type": "code",
   "execution_count": 71,
   "metadata": {},
   "outputs": [],
   "source": [
    "#consumer key authentication\n",
    "auth = tw.OAuthHandler(consumer_key, consumer_secret)\n",
    "\n",
    "#Access key Authentication\n",
    "auth.set_access_token(access_token, access_token_secret)\n",
    "\n",
    "#set up the api with access token handler\n",
    "api = tw.API(auth)"
   ]
  },
  {
   "cell_type": "code",
   "execution_count": 97,
   "metadata": {},
   "outputs": [],
   "source": [
    "#keywords to track \n",
    "keywords_to_track = \"#Coronavirus\"\n",
    "date = \"2015-11-01\"\n",
    "\n"
   ]
  },
  {
   "cell_type": "code",
   "execution_count": 98,
   "metadata": {},
   "outputs": [
    {
     "data": {
      "text/plain": [
       "<tweepy.cursor.ItemIterator at 0x24156b66048>"
      ]
     },
     "execution_count": 98,
     "metadata": {},
     "output_type": "execute_result"
    }
   ],
   "source": [
    "#collecting tweets about the keyword\n",
    "\n",
    "tweets = tw.Cursor(api.search,\n",
    "                  q = keywords_to_track,\n",
    "                  lang = \"en\").items(10)\n",
    "\n",
    "tweets"
   ]
  },
  {
   "cell_type": "code",
   "execution_count": 99,
   "metadata": {},
   "outputs": [
    {
     "name": "stdout",
     "output_type": "stream",
     "text": [
      "['RT @ScoreNigeria1: #Awoniyi scores again to lift #UnionBerlin #Nigeria #football #Bundesliga #PremierLeague #LFC #Biden #BlackLivesMatter #…', 'RT @AFP: Harry Kane and Son Heung-min were again #TottenhamHotspur talismans in a 3-0 win over #LeedsUnited to revitalise their title chall…', 'RT @CEDRdigital: Spiraling #COVID19 deaths leave morgues overflowing and funeral homes turning away grieving families.\\n\\n#coronavirus #pande…', \"RT @SkyNews: Batches of the Oxford/AstraZeneca #coronavirus vaccine have started arriving at UK hospitals ahead of the jab's nationwide rol…\", 'RT @bmay: There’s going to be more death on a vast scale in #brazil, also led by a right wing populist. \\n\\nNew Year in Rio. Calamitous. \\n#co…', 'RT @MattHancock: Huge THANK YOU to everyone playing their part in the national effort to beat #coronavirus.\\n\\nOver a million people have bee…', '@marklevinshow @realDonaldTrump Yeah, congrats to #trump ‘s little ass crawler, the biggest #weasel in the US Senat… https://t.co/ngXEHG6bXp', \"RT @mi6rogue: I haven't bothered to ask anyone about the #StarmerQuits as it is clearly BS, I will say even if it was true which it is not…\", 'sunday 11 am on Up Close on  @ABC7NY  @DrJAshton on how long vaccination effort will take. retiring NY Cong. Peter… https://t.co/4vyDkXeONX', 'For all the people who think they have it difficult because of the #coronavirus read these stories. https://t.co/mAvGpmXphu']\n"
     ]
    }
   ],
   "source": [
    "#iterate and print the text of the tweets\n",
    "\n",
    "# for tweet in tweets:\n",
    "#     print(tweet.text)\n",
    "tweetword = [tweet.text for tweet in tweets] \n",
    "print(tweetword)"
   ]
  },
  {
   "cell_type": "code",
   "execution_count": 100,
   "metadata": {},
   "outputs": [
    {
     "data": {
      "text/plain": [
       "[['justgracephiri',\n",
       "  'RT @TigressEllie: A quick check through the Child Hospitalisation data reveals.\\n\\nApril -  499 covid child admissions (The peak month first…',\n",
       "  'Manchester, England'],\n",
       " ['influencegearb1',\n",
       "  'RT @influencegearb1: What does it mean to learn about influence during this pandemic?\\n\\n#influence #persuasion #coronavirus\\n\\n1/',\n",
       "  ''],\n",
       " ['SorayaLee',\n",
       "  'RT @subgap: Coronavirus Update:\\n☣️️ Total cases: 84,914,807 (+97,585) ☣️️\\n⚠️ Current cases: 23,056,382 (-4,613) ⚠️\\n⚰️ Deaths: 1,842,374 (+1…',\n",
       "  ''],\n",
       " ['gr8musicvenues',\n",
       "  'RT @NASUWT: @NASUWT has called on the Secretary of State for Education to introduce an immediate nationwide move to remote education for al…',\n",
       "  'Florida, USA'],\n",
       " ['sandymmv',\n",
       "  'RT @csprofessorhank: Day 358 of the #pandemic:  California funeral homes out of space.\\n\\nhttps://t.co/zdU4E3I00I\\n\\n#Corona #Covid19 #coronavi…',\n",
       "  'Zaragoza, España'],\n",
       " ['ThedFrom',\n",
       "  'RT @GarySidley: There is now sufficient evidence to conclude that asymptomatic transmission is not a significant factor in spreading #COVID…',\n",
       "  ''],\n",
       " ['carlosriver1978',\n",
       "  'RT @muhammadnajem20: 1.82 M ppl out of 7.8 B dead from #Coronavirus. Bashar al-Assad killed half a M from 21 M ppl. World asks us to reconc…',\n",
       "  'Ciudad Autónoma de Buenos Aire'],\n",
       " ['iaineggman',\n",
       "  'And in a nutshell, this is why nobody has any faith in the government. Blind to all of the concerns and ignoring wh… https://t.co/qHlS6U5NgN',\n",
       "  'West Midlands, England'],\n",
       " ['StephanieKakos1',\n",
       "  'RT @MsRonnyB: @AlboMP Get out the top spot now! @AustralianLabor is rapidly losing supporters while IGNORING MAJOR CHANGES SINCE 2019 ELECT…',\n",
       "  ''],\n",
       " ['LizDolphinfluff',\n",
       "  \"RT @FordPrefect747: An objective and calm report about how the vaccine effort is going down the tubes.  It's like a vaudeville act in which…\",\n",
       "  ' Ginninderra Creek Canberra Oz']]"
      ]
     },
     "execution_count": 100,
     "metadata": {},
     "output_type": "execute_result"
    }
   ],
   "source": [
    "#to know the exact user tweeting about the key words above and their location using the tweet.user.screen_name and\n",
    "#tweet.user.location\n",
    "\n",
    "tweets = tw.Cursor(api.search,\n",
    "                  q = keywords_to_track,\n",
    "                  lang = \"en\",\n",
    "                  since=date).items(10)\n",
    "\n",
    "user_name_location = [[tweet.user.screen_name, tweet.text, tweet.user.location] for tweet in tweets]\n",
    "\n",
    "user_name_location\n",
    "\n",
    "\n"
   ]
  },
  {
   "cell_type": "code",
   "execution_count": 101,
   "metadata": {},
   "outputs": [
    {
     "data": {
      "text/html": [
       "<div>\n",
       "<style scoped>\n",
       "    .dataframe tbody tr th:only-of-type {\n",
       "        vertical-align: middle;\n",
       "    }\n",
       "\n",
       "    .dataframe tbody tr th {\n",
       "        vertical-align: top;\n",
       "    }\n",
       "\n",
       "    .dataframe thead th {\n",
       "        text-align: right;\n",
       "    }\n",
       "</style>\n",
       "<table border=\"1\" class=\"dataframe\">\n",
       "  <thead>\n",
       "    <tr style=\"text-align: right;\">\n",
       "      <th></th>\n",
       "      <th>user</th>\n",
       "      <th>tweet</th>\n",
       "      <th>location</th>\n",
       "    </tr>\n",
       "  </thead>\n",
       "  <tbody>\n",
       "    <tr>\n",
       "      <th>0</th>\n",
       "      <td>justgracephiri</td>\n",
       "      <td>RT @TigressEllie: A quick check through the Ch...</td>\n",
       "      <td>Manchester, England</td>\n",
       "    </tr>\n",
       "    <tr>\n",
       "      <th>1</th>\n",
       "      <td>influencegearb1</td>\n",
       "      <td>RT @influencegearb1: What does it mean to lear...</td>\n",
       "      <td></td>\n",
       "    </tr>\n",
       "    <tr>\n",
       "      <th>2</th>\n",
       "      <td>SorayaLee</td>\n",
       "      <td>RT @subgap: Coronavirus Update:\\n☣️️ Total cas...</td>\n",
       "      <td></td>\n",
       "    </tr>\n",
       "    <tr>\n",
       "      <th>3</th>\n",
       "      <td>gr8musicvenues</td>\n",
       "      <td>RT @NASUWT: @NASUWT has called on the Secretar...</td>\n",
       "      <td>Florida, USA</td>\n",
       "    </tr>\n",
       "    <tr>\n",
       "      <th>4</th>\n",
       "      <td>sandymmv</td>\n",
       "      <td>RT @csprofessorhank: Day 358 of the #pandemic:...</td>\n",
       "      <td>Zaragoza, España</td>\n",
       "    </tr>\n",
       "    <tr>\n",
       "      <th>5</th>\n",
       "      <td>ThedFrom</td>\n",
       "      <td>RT @GarySidley: There is now sufficient eviden...</td>\n",
       "      <td></td>\n",
       "    </tr>\n",
       "    <tr>\n",
       "      <th>6</th>\n",
       "      <td>carlosriver1978</td>\n",
       "      <td>RT @muhammadnajem20: 1.82 M ppl out of 7.8 B d...</td>\n",
       "      <td>Ciudad Autónoma de Buenos Aire</td>\n",
       "    </tr>\n",
       "    <tr>\n",
       "      <th>7</th>\n",
       "      <td>iaineggman</td>\n",
       "      <td>And in a nutshell, this is why nobody has any ...</td>\n",
       "      <td>West Midlands, England</td>\n",
       "    </tr>\n",
       "    <tr>\n",
       "      <th>8</th>\n",
       "      <td>StephanieKakos1</td>\n",
       "      <td>RT @MsRonnyB: @AlboMP Get out the top spot now...</td>\n",
       "      <td></td>\n",
       "    </tr>\n",
       "    <tr>\n",
       "      <th>9</th>\n",
       "      <td>LizDolphinfluff</td>\n",
       "      <td>RT @FordPrefect747: An objective and calm repo...</td>\n",
       "      <td>Ginninderra Creek Canberra Oz</td>\n",
       "    </tr>\n",
       "  </tbody>\n",
       "</table>\n",
       "</div>"
      ],
      "text/plain": [
       "              user                                              tweet  \\\n",
       "0   justgracephiri  RT @TigressEllie: A quick check through the Ch...   \n",
       "1  influencegearb1  RT @influencegearb1: What does it mean to lear...   \n",
       "2        SorayaLee  RT @subgap: Coronavirus Update:\\n☣️️ Total cas...   \n",
       "3   gr8musicvenues  RT @NASUWT: @NASUWT has called on the Secretar...   \n",
       "4         sandymmv  RT @csprofessorhank: Day 358 of the #pandemic:...   \n",
       "5         ThedFrom  RT @GarySidley: There is now sufficient eviden...   \n",
       "6  carlosriver1978  RT @muhammadnajem20: 1.82 M ppl out of 7.8 B d...   \n",
       "7       iaineggman  And in a nutshell, this is why nobody has any ...   \n",
       "8  StephanieKakos1  RT @MsRonnyB: @AlboMP Get out the top spot now...   \n",
       "9  LizDolphinfluff  RT @FordPrefect747: An objective and calm repo...   \n",
       "\n",
       "                         location  \n",
       "0             Manchester, England  \n",
       "1                                  \n",
       "2                                  \n",
       "3                    Florida, USA  \n",
       "4                Zaragoza, España  \n",
       "5                                  \n",
       "6  Ciudad Autónoma de Buenos Aire  \n",
       "7          West Midlands, England  \n",
       "8                                  \n",
       "9   Ginninderra Creek Canberra Oz  "
      ]
     },
     "execution_count": 101,
     "metadata": {},
     "output_type": "execute_result"
    }
   ],
   "source": [
    "#putting all the tweets in table \n",
    "\n",
    "tweet_text_table = pd.DataFrame(data =user_name_location,\n",
    "                              columns = ['user', 'tweet', 'location'])\n",
    "\n",
    "tweet_text_table"
   ]
  },
  {
   "cell_type": "code",
   "execution_count": 102,
   "metadata": {},
   "outputs": [],
   "source": [
    "import csv\n",
    "\n",
    "# file = open(\"Searched_words.csv\", \"w\")\n",
    "\n",
    "tweet_text_table.to_csv(r'Searched_words.csv', index = False)\n",
    "\n",
    "# file.close()"
   ]
  },
  {
   "cell_type": "code",
   "execution_count": null,
   "metadata": {},
   "outputs": [],
   "source": []
  }
 ],
 "metadata": {
  "kernelspec": {
   "display_name": "Python 3",
   "language": "python",
   "name": "python3"
  },
  "language_info": {
   "codemirror_mode": {
    "name": "ipython",
    "version": 3
   },
   "file_extension": ".py",
   "mimetype": "text/x-python",
   "name": "python",
   "nbconvert_exporter": "python",
   "pygments_lexer": "ipython3",
   "version": "3.7.8"
  }
 },
 "nbformat": 4,
 "nbformat_minor": 4
}
